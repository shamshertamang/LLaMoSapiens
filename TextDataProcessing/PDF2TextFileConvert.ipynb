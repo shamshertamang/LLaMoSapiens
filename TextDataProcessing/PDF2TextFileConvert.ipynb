{
 "cells": [
  {
   "metadata": {},
   "cell_type": "markdown",
   "source": "# Install dependency",
   "id": "7dd0ae69f486e495"
  },
  {
   "metadata": {},
   "cell_type": "code",
   "source": [
    "!pip install pathlib\n",
    "!pip install pdfminer.six"
   ],
   "id": "d4567a2d8da85bcd",
   "outputs": [],
   "execution_count": null
  },
  {
   "metadata": {},
   "cell_type": "markdown",
   "source": "# File path initialise",
   "id": "eec542a35330ebec"
  },
  {
   "metadata": {
    "collapsed": true
   },
   "cell_type": "code",
   "source": [
    "import os\n",
    "from pathlib import Path\n",
    "\n",
    "book_path = \"./../BookAndDataFiles/books\"\n",
    "txt_files_path = \"./../BookAndDataFiles/txtfiles\""
   ],
   "id": "54ca598e40cef2c9",
   "outputs": [],
   "execution_count": null
  },
  {
   "metadata": {},
   "cell_type": "markdown",
   "source": "# clean pdf extracted text",
   "id": "1fddad5457e10e83"
  },
  {
   "metadata": {},
   "cell_type": "code",
   "source": [
    "import re, unicodedata\n",
    "\n",
    "def clean_pdf_text(s: str) -> str:\n",
    "    # 0) normalize unicode + line endings\n",
    "    s = unicodedata.normalize(\"NFKC\", s).replace(\"\\r\\n\", \"\\n\").replace(\"\\r\", \"\\n\")\n",
    "\n",
    "    # 1) replace tabs with spaces; drop zero-width chars\n",
    "    s = s.replace(\"\\t\", \" \").replace(\"\\u200b\", \"\")\n",
    "\n",
    "    # 2) common ligatures → ascii (optional)\n",
    "    s = s.replace(\"ﬁ\", \"fi\").replace(\"ﬂ\", \"fl\")\n",
    "\n",
    "    # 3) treat page breaks as paragraph breaks\n",
    "    s = s.replace(\"\\x0c\", \"\\n\\n\")\n",
    "\n",
    "    # 4) normalize multiple blank lines to exactly two (para separator)\n",
    "    s = re.sub(r\"\\n{3,}\", \"\\n\\n\", s)\n",
    "\n",
    "    # 5) de-hyphenate words split across a newline: \"neura-\\nscience\" → \"neuroscience\"\n",
    "    s = re.sub(r\"(\\w+)-\\n(\\w+)\", r\"\\1\\2\", s)\n",
    "\n",
    "    # 6) temporarily protect paragraph breaks\n",
    "    s = s.replace(\"\\n\\n\", \"<PARA>\")\n",
    "\n",
    "    # 7) unwrap single newlines (line-wrapped lines) to spaces\n",
    "    s = re.sub(r\"\\n+\", \" \", s)\n",
    "\n",
    "    # 8) restore paragraph breaks\n",
    "    s = s.replace(\"<PARA>\", \"\\n\\n\")\n",
    "\n",
    "    # 9) collapse multiple spaces (incl. non-breaking)\n",
    "    s = re.sub(r\"[ \\u00A0]{2,}\", \" \", s)\n",
    "\n",
    "    # 10) tidy spaces around newlines\n",
    "    s = re.sub(r\" *\\n *\", \"\\n\", s)\n",
    "\n",
    "    return s.strip()\n"
   ],
   "id": "a16c2b624e2b6a0e",
   "outputs": [],
   "execution_count": null
  },
  {
   "metadata": {},
   "cell_type": "markdown",
   "source": "# extraction, cleaning and making files",
   "id": "e967260d854e9bbb"
  },
  {
   "metadata": {},
   "cell_type": "code",
   "source": [
    "from pdfminer.high_level import extract_text\n",
    "\n",
    "for filename in os.listdir(book_path):\n",
    "    if filename == \"test.pdf\":\n",
    "        continue\n",
    "    file_path = Path(os.path.join(book_path, filename)).resolve()\n",
    "    text = extract_text(file_path)\n",
    "    clean_text = clean_pdf_text(text)\n",
    "    with open(os.path.join(txt_files_path, filename[:-4]), \"w\", encoding=\"utf-8\") as f:\n",
    "        f.write(clean_text)"
   ],
   "id": "504b4dd2be1402fc",
   "outputs": [],
   "execution_count": null
  }
 ],
 "metadata": {
  "kernelspec": {
   "display_name": "Python 3",
   "language": "python",
   "name": "python3"
  },
  "language_info": {
   "codemirror_mode": {
    "name": "ipython",
    "version": 2
   },
   "file_extension": ".py",
   "mimetype": "text/x-python",
   "name": "python",
   "nbconvert_exporter": "python",
   "pygments_lexer": "ipython2",
   "version": "2.7.6"
  }
 },
 "nbformat": 4,
 "nbformat_minor": 5
}
